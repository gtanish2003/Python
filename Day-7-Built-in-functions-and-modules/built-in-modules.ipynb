{
 "cells": [
  {
   "cell_type": "markdown",
   "metadata": {},
   "source": [
    "# What are modules?\n",
    "Consider a module to be the same as a code library.\n",
    "A file containing a set of functions you want to include in your application.\n",
    "Examples of python modules\n",
    "Math\n",
    "Random\n",
    "os\n",
    "time"
   ]
  },
  {
   "cell_type": "code",
   "execution_count": 1,
   "metadata": {},
   "outputs": [
    {
     "name": "stdout",
     "output_type": "stream",
     "text": [
      "\n",
      "Please wait a moment while I gather a list of all available modules...\n",
      "\n",
      "test_sqlite3: testing with version '2.6.0', sqlite_version '3.40.1'\n"
     ]
    },
    {
     "name": "stderr",
     "output_type": "stream",
     "text": [
      "c:\\Users\\Ashish Gupta\\AppData\\Local\\Programs\\Python\\Python311\\Lib\\site-packages\\nltk\\twitter\\__init__.py:20: UserWarning: The twython library has not been installed. Some functionality from the twitter package will not be available.\n",
      "  warnings.warn(\n",
      "c:\\Users\\Ashish Gupta\\AppData\\Local\\Programs\\Python\\Python311\\Lib\\pkgutil.py:92: UserWarning: The numpy.array_api submodule is still experimental. See NEP 47.\n",
      "  __import__(info.name)\n",
      "c:\\Users\\Ashish Gupta\\AppData\\Local\\Programs\\Python\\Python311\\Lib\\site-packages\\tqdm\\auto.py:21: TqdmWarning: IProgress not found. Please update jupyter and ipywidgets. See https://ipywidgets.readthedocs.io/en/stable/user_install.html\n",
      "  from .autonotebook import tqdm as notebook_tqdm\n",
      "c:\\Users\\Ashish Gupta\\AppData\\Local\\Programs\\Python\\Python311\\Lib\\site-packages\\_distutils_hack\\__init__.py:33: UserWarning: Setuptools is replacing distutils.\n",
      "  warnings.warn(\"Setuptools is replacing distutils.\")\n"
     ]
    },
    {
     "name": "stdout",
     "output_type": "stream",
     "text": [
      "IPython             charset_normalizer  multimethod         sunau\n",
      "PIL                 chunk               multiprocessing     symtable\n",
      "__future__          clang               nbformat            sys\n",
      "__hello__           click               nest_asyncio        sysconfig\n",
      "__phello__          cmath               netbios             tabnanny\n",
      "_abc                cmd                 netrc               tangled_up_in_unicode\n",
      "_aix_support        code                networkx            tarfile\n",
      "_ast                codecs              nltk                telnetlib\n",
      "_asyncio            codeop              nntplib             tempfile\n",
      "_bisect             collections         np_utils            tenacity\n",
      "_blake2             colorama            nt                  tensorboard\n",
      "_bootsubprocess     colorsys            ntpath              tensorboard_data_server\n",
      "_bz2                comm                ntsecuritycon       tensorflow\n",
      "_cffi_backend       commctrl            nturl2path          tensorflow_estimator\n",
      "_codecs             compileall          numbers             tensorflow_io_gcs_filesystem\n",
      "_codecs_cn          concurrent          numpy               termcolor\n",
      "_codecs_hk          configparser        oauthlib            test\n",
      "_codecs_iso2022     contextlib          odbc                tests\n",
      "_codecs_jp          contextvars         opcode              textwrap\n",
      "_codecs_kr          contourpy           operator            this\n",
      "_codecs_tw          copy                opt_einsum          threading\n",
      "_collections        copyreg             optparse            threadpoolctl\n",
      "_collections_abc    cosinesimilarity    os                  time\n",
      "_compat_pickle      crypt               packaging           timeit\n",
      "_compression        csv                 pandas              timer\n",
      "_contextvars        ctypes              pandas_profiling    tkinter\n",
      "_csv                curses              parso               tlz\n",
      "_ctypes             cycler              pasta               tmdbv3api\n",
      "_ctypes_test        dataclasses         pathlib             token\n",
      "_datetime           datetime            patsy               tokenize\n",
      "_decimal            dateutil            pdb                 toml\n",
      "_distutils_hack     dbi                 perfmon             tomllib\n",
      "_elementtree        dbm                 phik                toolz\n",
      "_functools          dde                 pickle              tornado\n",
      "_hashlib            debugpy             pickleshare         tqdm\n",
      "_heapq              decimal             pickletools         trace\n",
      "_imp                decorator           pip                 traceback\n",
      "_io                 difflib             pipes               tracemalloc\n",
      "_json               dis                 pkg_resources       traitlets\n",
      "_locale             distutils           pkgutil             tty\n",
      "_lsprof             doctest             platform            turtle\n",
      "_lzma               dotenv              platformdirs        turtledemo\n",
      "_markupbase         email               plistlib            types\n",
      "_md5                encodings           plotly              typing\n",
      "_msi                ensurepip           poplib              typing_extensions\n",
      "_multibytecodec     enum                posixpath           tzdata\n",
      "_multiprocessing    errno               pprint              tzlocal\n",
      "_opcode             executing           profile             unicodedata\n",
      "_operator           fastjsonschema      prompt_toolkit      unittest\n",
      "_osx_support        faulthandler        pstats              urllib\n",
      "_overlapped         filecmp             psutil              urllib3\n",
      "_pickle             fileinput           pty                 uu\n",
      "_plotly_future_     flask               pure_eval           uuid\n",
      "_plotly_utils       flask_cors          py_compile          validators\n",
      "_py_abc             flatbuffers         pyarrow             venv\n",
      "_pydecimal          fnmatch             pyasn1              visions\n",
      "_pyio               fontTools           pyasn1_modules      warnings\n",
      "_queue              fractions           pyclbr              watchdog\n",
      "_random             ftplib              pycparser           wave\n",
      "_sha1               functools           pydantic            wcwidth\n",
      "_sha256             gast                pydantic_core       weakref\n",
      "_sha3               gc                  pydantic_settings   webbrowser\n",
      "_sha512             genericpath         pydeck              werkzeug\n",
      "_signal             getopt              pydoc               wheel\n",
      "_sitebuiltins       getpass             pydoc_data          win2kras\n",
      "_socket             gettext             pyexpat             win32api\n",
      "_soundfile          git                 pygments            win32clipboard\n",
      "_soundfile_data     gitdb               pylab               win32com\n",
      "_sqlite3            glob                pympler             win32con\n",
      "_sre                google_auth_oauthlib pyparsing           win32console\n",
      "_ssl                graphlib            pythoncom           win32cred\n",
      "_stat               grpc                pytz                win32crypt\n",
      "_statistics         gzip                pytz_deprecation_shim win32cryptcon\n",
      "_string             h5py                pywin               win32event\n",
      "_strptime           hashlib             pywin32_bootstrap   win32evtlog\n",
      "_struct             heapq               pywin32_testutil    win32evtlogutil\n",
      "_symtable           hmac                pywintypes          win32file\n",
      "_testbuffer         html                pywt                win32gui\n",
      "_testcapi           htmlmin             queue               win32gui_struct\n",
      "_testconsole        http                quopri              win32help\n",
      "_testimportmultiple idlelib             random              win32inet\n",
      "_testinternalcapi   idna                rasutil             win32inetcon\n",
      "_testmultiphase     imagehash           re                  win32job\n",
      "_thread             imaplib             referencing         win32lz\n",
      "_threading_local    imghdr              regcheck            win32net\n",
      "_tkinter            imp                 regex               win32netcon\n",
      "_tokenize           importlib           regutil             win32pdh\n",
      "_tracemalloc        importlib_metadata  reprlib             win32pdhquery\n",
      "_typing             inspect             requests            win32pdhutil\n",
      "_uuid               io                  requests_oauthlib   win32pipe\n",
      "_warnings           ipaddress           rich                win32print\n",
      "_weakref            ipykernel           rlcompleter         win32process\n",
      "_weakrefset         ipykernel_launcher  rpds                win32profile\n",
      "_win32sysloader     isapi               rsa                 win32ras\n",
      "_winapi             itertools           runpy               win32rcparser\n",
      "_winxptheme         itsdangerous        sched               win32security\n",
      "_xxsubinterpreters  jedi                scipy               win32service\n",
      "_yaml               jinja2              seaborn             win32serviceutil\n",
      "_zoneinfo           joblib              secrets             win32timezone\n",
      "abc                 json                select              win32trace\n",
      "absl                jsonschema          selectors           win32traceutil\n",
      "adodbapi            jsonschema_specifications servicemanager      win32transaction\n",
      "afxres              jupyter             setuptools          win32ts\n",
      "aifc                jupyter_client      shelve              win32ui\n",
      "altair              jupyter_core        shlex               win32uiole\n",
      "annotated_types     jupyterlab_plotly   shutil              win32verstamp\n",
      "antigravity         keras               signal              win32wnet\n",
      "argparse            keras_layer_normalization site                winerror\n",
      "array               keyword             six                 winioctlcon\n",
      "ast                 kiwisolver          sklearn             winnt\n",
      "asttokens           lib2to3             smmap               winperf\n",
      "astunparse          linecache           smtpd               winreg\n",
      "asynchat            locale              smtplib             winsound\n",
      "asyncio             logging             sndhdr              winxpgui\n",
      "asyncore            lxml                socket              winxptheme\n",
      "atexit              lzma                socketserver        wordcloud\n",
      "attr                mailbox             soundfile           wrapt\n",
      "attrs               mailcap             soupsieve           wsgiref\n",
      "audioop             markdown            sqlite3             xdrlib\n",
      "backcall            markdown_it         sre_compile         xgboost\n",
      "base64              markupsafe          sre_constants       xml\n",
      "bdb                 marshal             sre_parse           xmlrpc\n",
      "binascii            math                ssl                 xxsubtype\n",
      "bisect              matplotlib          sspi                yaml\n",
      "blinker             matplotlib_inline   sspicon             zipapp\n",
      "bs4                 mdurl               stack_data          zipfile\n",
      "builtins            mimetypes           start_pythonwin     zipimport\n",
      "bz2                 missingno           stat                zipp\n",
      "cProfile            mmap                statistics          zlib\n",
      "cachetools          mmapfile            statsmodels         zmq\n",
      "calendar            mmsystem            streamlit           zoneinfo\n",
      "certifi             modulefinder        string              ~andas\n",
      "cffi                mpl_toolkits        stringprep          \n",
      "cgi                 msilib              struct              \n",
      "cgitb               msvcrt              subprocess          \n",
      "\n",
      "Enter any module name to get more help.  Or, type \"modules spam\" to search\n",
      "for modules whose name or summary contain the string \"spam\".\n",
      "\n"
     ]
    }
   ],
   "source": [
    "help('modules')"
   ]
  },
  {
   "cell_type": "code",
   "execution_count": 2,
   "metadata": {},
   "outputs": [],
   "source": [
    "# include <stdio.h>\n",
    "import math"
   ]
  },
  {
   "cell_type": "code",
   "execution_count": 3,
   "metadata": {},
   "outputs": [
    {
     "data": {
      "text/plain": [
       "2.0"
      ]
     },
     "execution_count": 3,
     "metadata": {},
     "output_type": "execute_result"
    }
   ],
   "source": [
    "math.sqrt(4)"
   ]
  },
  {
   "cell_type": "code",
   "execution_count": 4,
   "metadata": {},
   "outputs": [
    {
     "data": {
      "text/plain": [
       "3.141592653589793"
      ]
     },
     "execution_count": 4,
     "metadata": {},
     "output_type": "execute_result"
    }
   ],
   "source": [
    "math.pi"
   ]
  },
  {
   "cell_type": "code",
   "execution_count": 5,
   "metadata": {},
   "outputs": [],
   "source": [
    "import random"
   ]
  },
  {
   "cell_type": "code",
   "execution_count": 6,
   "metadata": {},
   "outputs": [
    {
     "data": {
      "text/plain": [
       "12"
      ]
     },
     "execution_count": 6,
     "metadata": {},
     "output_type": "execute_result"
    }
   ],
   "source": [
    "random.randint(1,100)  # both start and end are inclusive"
   ]
  },
  {
   "cell_type": "code",
   "execution_count": 7,
   "metadata": {},
   "outputs": [
    {
     "data": {
      "text/plain": [
       "[4, 1, 3, 2, 5]"
      ]
     },
     "execution_count": 7,
     "metadata": {},
     "output_type": "execute_result"
    }
   ],
   "source": [
    "a = [1,2,3,4,5]\n",
    "random.shuffle(a)\n",
    "a"
   ]
  },
  {
   "cell_type": "code",
   "execution_count": 8,
   "metadata": {},
   "outputs": [],
   "source": [
    "import time"
   ]
  },
  {
   "cell_type": "code",
   "execution_count": 9,
   "metadata": {},
   "outputs": [
    {
     "data": {
      "text/plain": [
       "1700194176.568723"
      ]
     },
     "execution_count": 9,
     "metadata": {},
     "output_type": "execute_result"
    }
   ],
   "source": [
    "time.time()"
   ]
  },
  {
   "cell_type": "code",
   "execution_count": 10,
   "metadata": {},
   "outputs": [
    {
     "data": {
      "text/plain": [
       "'Fri Nov 17 09:39:44 2023'"
      ]
     },
     "execution_count": 10,
     "metadata": {},
     "output_type": "execute_result"
    }
   ],
   "source": [
    "time.ctime()"
   ]
  },
  {
   "cell_type": "code",
   "execution_count": 11,
   "metadata": {},
   "outputs": [
    {
     "name": "stdout",
     "output_type": "stream",
     "text": [
      "Hello\n",
      "World\n"
     ]
    }
   ],
   "source": [
    "print(\"Hello\")\n",
    "time.sleep(1)\n",
    "print(\"World\")"
   ]
  },
  {
   "cell_type": "code",
   "execution_count": 12,
   "metadata": {},
   "outputs": [],
   "source": [
    "import os"
   ]
  },
  {
   "cell_type": "code",
   "execution_count": 13,
   "metadata": {},
   "outputs": [
    {
     "data": {
      "text/plain": [
       "'d:\\\\Python\\\\Day-7-Built-in-functions-and-modules'"
      ]
     },
     "execution_count": 13,
     "metadata": {},
     "output_type": "execute_result"
    }
   ],
   "source": [
    "os.getcwd()"
   ]
  },
  {
   "cell_type": "code",
   "execution_count": 14,
   "metadata": {},
   "outputs": [
    {
     "data": {
      "text/plain": [
       "['built-in-functions.ipynb', 'built-in-modules.ipynb']"
      ]
     },
     "execution_count": 14,
     "metadata": {},
     "output_type": "execute_result"
    }
   ],
   "source": [
    "os.listdir()"
   ]
  },
  {
   "cell_type": "code",
   "execution_count": null,
   "metadata": {},
   "outputs": [],
   "source": []
  }
 ],
 "metadata": {
  "kernelspec": {
   "display_name": "Python 3",
   "language": "python",
   "name": "python3"
  },
  "language_info": {
   "codemirror_mode": {
    "name": "ipython",
    "version": 3
   },
   "file_extension": ".py",
   "mimetype": "text/x-python",
   "name": "python",
   "nbconvert_exporter": "python",
   "pygments_lexer": "ipython3",
   "version": "3.11.3"
  }
 },
 "nbformat": 4,
 "nbformat_minor": 2
}
