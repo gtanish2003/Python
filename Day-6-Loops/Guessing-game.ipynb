{
 "cells": [
  {
   "cell_type": "code",
   "execution_count": 1,
   "metadata": {},
   "outputs": [],
   "source": [
    "import random"
   ]
  },
  {
   "cell_type": "code",
   "execution_count": 8,
   "metadata": {},
   "outputs": [
    {
     "name": "stdout",
     "output_type": "stream",
     "text": [
      "Your guess is too high\n",
      "Your guess is too low\n",
      "Your guess is too high\n",
      "Your guess is too low\n",
      "Your guess is too low\n",
      "You guessed it! The number was 19\n",
      "It took you 6 guesses\n"
     ]
    }
   ],
   "source": [
    "jackpot=random.randint(1,100)\n",
    "guess=int (input(\"Enter a number between 1 and 100 to guess: \"))\n",
    "\n",
    "counter=1\n",
    "\n",
    "while guess != jackpot:\n",
    "    if guess < jackpot:\n",
    "        print(\"Your guess is too low\")\n",
    "    elif guess > jackpot:\n",
    "        print(\"Your guess is too high\")\n",
    "    guess=int (input(\"Enter a number between 1 and 100 to guess: \"))\n",
    "    counter+=1\n",
    "print(\"You guessed it! The number was\", jackpot)\n",
    "print(\"It took you\", counter, \"guesses\")\n",
    "\n",
    "\n",
    "\n",
    "\n",
    "\n",
    "\n",
    "\n"
   ]
  },
  {
   "cell_type": "code",
   "execution_count": null,
   "metadata": {},
   "outputs": [],
   "source": []
  },
  {
   "cell_type": "code",
   "execution_count": null,
   "metadata": {},
   "outputs": [],
   "source": []
  }
 ],
 "metadata": {
  "kernelspec": {
   "display_name": "Python 3",
   "language": "python",
   "name": "python3"
  },
  "language_info": {
   "codemirror_mode": {
    "name": "ipython",
    "version": 3
   },
   "file_extension": ".py",
   "mimetype": "text/x-python",
   "name": "python",
   "nbconvert_exporter": "python",
   "pygments_lexer": "ipython3",
   "version": "3.11.3"
  }
 },
 "nbformat": 4,
 "nbformat_minor": 2
}
