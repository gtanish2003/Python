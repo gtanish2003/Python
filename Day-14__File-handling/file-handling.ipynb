{
 "cells": [
  {
   "cell_type": "markdown",
   "metadata": {},
   "source": [
    "# Why do we need files in python ?"
   ]
  },
  {
   "cell_type": "markdown",
   "metadata": {},
   "source": [
    "There are generally two ways to give an input i.e. from keyboard or from file. In this notebook we will see how to read and write from file.\n",
    "Giving data in form of file is more practical as it is easy to store and share. Also, it is easy to read and write from file.\n",
    "Also data is stored permanently in file."
   ]
  },
  {
   "cell_type": "markdown",
   "metadata": {},
   "source": [
    "# Types of files \n",
    "### 1. Text files\n",
    "### 2. Binary files"
   ]
  },
  {
   "cell_type": "markdown",
   "metadata": {},
   "source": [
    "# What is file handling?"
   ]
  },
  {
   "cell_type": "markdown",
   "metadata": {},
   "source": [
    "File handling is very imp part of any web application.\n",
    "CRUD operations are very imp part of any web application.\n",
    "CRUD: Create, Read, Update, Delete"
   ]
  },
  {
   "cell_type": "markdown",
   "metadata": {},
   "source": [
    "### 1. create file <------\n",
    "### 2. open file       -\n",
    "### 3. work            -\n",
    "### 4. close file ------>\n",
    "1 ->2->3->4->1 in loop form"
   ]
  },
  {
   "cell_type": "markdown",
   "metadata": {},
   "source": [
    "# Opening a file \n",
    "open()\n",
    "1. filename\n",
    "2. mode\n",
    "3. syntax : open(filename,mode)\n"
   ]
  },
  {
   "cell_type": "markdown",
   "metadata": {},
   "source": [
    "# Modes \n",
    "### 1. read mode \"r\"--> default mode. Opens a file for reading . error if file does not exist.\n",
    "### 2. append mode \"a\"--> Opens a file for appending. Creates a new file if it does not exist.\n",
    "### 3. write mode \"w\"--> Opens a file for writing. Creates a new file if it does not exist.\n",
    "### 4. exclusive creation mode \"x\"--> Opens a file for exclusive creation. If the file already exists, the operation fails."
   ]
  },
  {
   "cell_type": "markdown",
   "metadata": {},
   "source": [
    "# Reading text file in python\n",
    "1. file.read()\n",
    "2. lots of ways to read a text file in python : all characters or some characters or line by line\n",
    "3. file.read(5)   --> it means to read only 5 characters from file\n",
    "4. file.readline()  --> line by line output\n",
    "5. file.readline(3)   --> reading third line only\n",
    "6. file.readlines()  --> read lines separatly\n",
    "7. looping over a file object-->\n",
    "8.  file=open(\"testfile.txt\",\"r\")\n",
    "9.   for line in file:\n",
    "10.      print(file.readline())   --> 7 se 10 ek hi code h\n"
   ]
  },
  {
   "cell_type": "markdown",
   "metadata": {},
   "source": [
    "# File Write Method\n",
    "1. \"a\"- append- will append to the end of the File\n",
    "2. \"w\"- write- will overwrite any existing content"
   ]
  },
  {
   "cell_type": "markdown",
   "metadata": {},
   "source": [
    "# Creating a new file\n",
    "1. \"x\" - Create - will create a file, returns an error if the file exist\n",
    "2. \"a\" - Append - will create a file if the specified file does not exist\n",
    "3. \"w\" - Write - will create a file if the specified file does not exist\n",
    "4. \"r\" - Read - will create a file if the specified file does not exist\n"
   ]
  },
  {
   "cell_type": "markdown",
   "metadata": {},
   "source": [
    "# Deleting a file\n",
    "1. import os\n",
    "2. we have to use os.remove function to delete a File\n",
    "3. os.remove(\"file_name\")\n",
    "4. to delete a entire folder we have to use os.rmdir(\"folder_name\")\n",
    "5. rmdir stands for removing directory and parameter is the name of the folder"
   ]
  },
  {
   "cell_type": "code",
   "execution_count": 16,
   "metadata": {},
   "outputs": [],
   "source": [
    "f=open(\"sample.txt\",\"w\")\n",
    "f.write(\"Hello World\")\n",
    "f.close()"
   ]
  },
  {
   "cell_type": "code",
   "execution_count": 17,
   "metadata": {},
   "outputs": [],
   "source": [
    "# writing multiple lines in file\n",
    "f=open(\"sample1.txt\",\"w\")\n",
    "f.write(\"Hello world\\n\")\n",
    "f.write(\"My name is Tanish Gupta\")\n",
    "f.close()"
   ]
  },
  {
   "cell_type": "code",
   "execution_count": 18,
   "metadata": {},
   "outputs": [],
   "source": [
    "# writing in file if file already exits\n",
    "f=open(\"sample.txt\",\"a\")\n",
    "f.write(\"INDIA\")\n",
    "f.close()\n",
    "# if we use write mode then it will overwrite it"
   ]
  },
  {
   "cell_type": "code",
   "execution_count": 19,
   "metadata": {},
   "outputs": [],
   "source": [
    "# writing many lines in file\n",
    "f=open(\"sample.txt\",\"a\")\n",
    "list=[\"\\nHello\",\"\\nMy name is Tanish Gupta\",\"\\nI am from India\"]\n",
    "f.writelines(list)\n",
    "f.close()"
   ]
  },
  {
   "cell_type": "code",
   "execution_count": 20,
   "metadata": {},
   "outputs": [
    {
     "name": "stdout",
     "output_type": "stream",
     "text": [
      "Hello WorldINDIA\n",
      "Hello\n",
      "My name is Tanish Gupta\n",
      "I am from India\n"
     ]
    }
   ],
   "source": [
    "# reading from file\n",
    "f=open(\"sample.txt\",\"r\")\n",
    "s=f.read()\n",
    "print(s)\n",
    "f.close()"
   ]
  },
  {
   "cell_type": "markdown",
   "metadata": {},
   "source": [
    "# Using Context Manager\n",
    "### 1. It ia a good practice to close the fil eonce work is done as it will free up the resources\n",
    "### 2. if we dont close it , garbage collector would close it\n",
    "### 3. with keyword closes the file as soon as the usage is over\n"
   ]
  },
  {
   "cell_type": "code",
   "execution_count": 21,
   "metadata": {},
   "outputs": [
    {
     "name": "stdout",
     "output_type": "stream",
     "text": [
      "Hello WorldINDIA\n",
      "Hello\n",
      "My name is Tanish Gupta\n",
      "I am from India\n"
     ]
    }
   ],
   "source": [
    "# with\n",
    "with open(\"sample.txt\",\"r\") as f:\n",
    "    s=f.read()\n",
    "    print(s)"
   ]
  },
  {
   "cell_type": "code",
   "execution_count": 22,
   "metadata": {},
   "outputs": [],
   "source": [
    "with open(\"sample1.txt\",\"a\") as f:\n",
    "    list=[\"\\nHello\",\"\\nMy name is Tanish Gupta\",\"\\nI am from India\"]\n",
    "    f.writelines(list)"
   ]
  },
  {
   "cell_type": "code",
   "execution_count": 23,
   "metadata": {},
   "outputs": [
    {
     "name": "stdout",
     "output_type": "stream",
     "text": [
      "ll*rl*IA*lo*na*s *sh*ta*m * I**"
     ]
    }
   ],
   "source": [
    "# reading big files in chunks\n",
    "with open(\"sample.txt\",\"r\") as f:\n",
    "    chunk_size=2\n",
    "    while(len(f.read(chunk_size))>0):\n",
    "        print(f.read(chunk_size),end=\"*\")\n",
    "        f.read(chunk_size)\n",
    "        "
   ]
  },
  {
   "cell_type": "markdown",
   "metadata": {},
   "source": [
    "# Seek and Tell function"
   ]
  },
  {
   "cell_type": "code",
   "execution_count": 26,
   "metadata": {},
   "outputs": [
    {
     "name": "stdout",
     "output_type": "stream",
     "text": [
      "Hello Worl\n",
      "10\n",
      "0\n"
     ]
    }
   ],
   "source": [
    "with open (\"sample.txt\",\"r\") as f:\n",
    "    print(f.read(10))\n",
    "    print(f.tell())\n",
    "    f.seek(0)\n",
    "    print(f.tell())"
   ]
  },
  {
   "cell_type": "code",
   "execution_count": 27,
   "metadata": {},
   "outputs": [
    {
     "name": "stdout",
     "output_type": "stream",
     "text": [
      "1\n"
     ]
    }
   ],
   "source": [
    "# seek during write\n",
    "with open(\"sample.txt\",\"w\") as f:\n",
    "    f.write(\"Hello\")\n",
    "    f.seek(0)\n",
    "    print(f.write(\"c\"))"
   ]
  },
  {
   "cell_type": "markdown",
   "metadata": {},
   "source": [
    "# Problems with text files\n",
    "### 1. not suitable for other data types such as in t, float,tuple,list,etc. It can only accept stringd.\n",
    "### 2. we can't read or write images, videos,etc.\n",
    "# Solution is to use binary files"
   ]
  },
  {
   "cell_type": "markdown",
   "metadata": {},
   "source": [
    "# Concept of serialization and deserialization"
   ]
  },
  {
   "cell_type": "markdown",
   "metadata": {},
   "source": [
    "### serialization--> converting python object( data types) into byte stream(JSON stream)\n",
    "### deserialization--> converting byte stream(JSON stream) into python object( data types)"
   ]
  },
  {
   "cell_type": "markdown",
   "metadata": {},
   "source": [
    "#   What is JSON?\n",
    "### JSON is javascript oject notation. It is a universal data format. It is used for data exchange between different applications."
   ]
  },
  {
   "cell_type": "code",
   "execution_count": 29,
   "metadata": {},
   "outputs": [],
   "source": [
    "# list\n",
    "import json\n",
    "L=[1,2,3,4]\n",
    "\n",
    "with open (\"demp.json\",\"w\") as f:\n",
    "    json.dump(L,f)   # dump list in json file"
   ]
  },
  {
   "cell_type": "code",
   "execution_count": 30,
   "metadata": {},
   "outputs": [
    {
     "name": "stdout",
     "output_type": "stream",
     "text": [
      "[1, 2, 3, 4]\n"
     ]
    }
   ],
   "source": [
    "import json\n",
    "with open (\"demp.json\",\"r\") as f:\n",
    "    L=json.load(f)   # load list from json file\n",
    "    print(L)"
   ]
  },
  {
   "cell_type": "markdown",
   "metadata": {},
   "source": [
    "tuple will act as list either in serialization or deserialization"
   ]
  },
  {
   "cell_type": "markdown",
   "metadata": {},
   "source": [
    "# Using custom objects"
   ]
  },
  {
   "cell_type": "code",
   "execution_count": 32,
   "metadata": {},
   "outputs": [],
   "source": [
    "class person:\n",
    "    def __init__(self,fname,lname,age,gender):\n",
    "        self.fname=fname\n",
    "        self.lname=lname\n",
    "        self.age=age\n",
    "        self.gender=gender"
   ]
  },
  {
   "cell_type": "code",
   "execution_count": 33,
   "metadata": {},
   "outputs": [],
   "source": [
    "p=person(\"Tanish \",\"Gupta\",20,\"Male\")"
   ]
  },
  {
   "cell_type": "code",
   "execution_count": 34,
   "metadata": {},
   "outputs": [
    {
     "ename": "TypeError",
     "evalue": "Object of type person is not JSON serializable",
     "output_type": "error",
     "traceback": [
      "\u001b[1;31m---------------------------------------------------------------------------\u001b[0m",
      "\u001b[1;31mTypeError\u001b[0m                                 Traceback (most recent call last)",
      "\u001b[1;32md:\\Python\\Day-14__File-handling\\file-handling.ipynb Cell 35\u001b[0m line \u001b[0;36m3\n\u001b[0;32m      <a href='vscode-notebook-cell:/d%3A/Python/Day-14__File-handling/file-handling.ipynb#Y105sZmlsZQ%3D%3D?line=0'>1</a>\u001b[0m \u001b[39mimport\u001b[39;00m \u001b[39mjson\u001b[39;00m\n\u001b[0;32m      <a href='vscode-notebook-cell:/d%3A/Python/Day-14__File-handling/file-handling.ipynb#Y105sZmlsZQ%3D%3D?line=1'>2</a>\u001b[0m \u001b[39mwith\u001b[39;00m \u001b[39mopen\u001b[39m(\u001b[39m\"\u001b[39m\u001b[39mdemp.json\u001b[39m\u001b[39m\"\u001b[39m,\u001b[39m\"\u001b[39m\u001b[39mw\u001b[39m\u001b[39m\"\u001b[39m)\u001b[39mas\u001b[39;00m f:\n\u001b[1;32m----> <a href='vscode-notebook-cell:/d%3A/Python/Day-14__File-handling/file-handling.ipynb#Y105sZmlsZQ%3D%3D?line=2'>3</a>\u001b[0m     json\u001b[39m.\u001b[39;49mdump(p,f)\n",
      "File \u001b[1;32mc:\\Users\\Ashish Gupta\\AppData\\Local\\Programs\\Python\\Python311\\Lib\\json\\__init__.py:179\u001b[0m, in \u001b[0;36mdump\u001b[1;34m(obj, fp, skipkeys, ensure_ascii, check_circular, allow_nan, cls, indent, separators, default, sort_keys, **kw)\u001b[0m\n\u001b[0;32m    173\u001b[0m     iterable \u001b[39m=\u001b[39m \u001b[39mcls\u001b[39m(skipkeys\u001b[39m=\u001b[39mskipkeys, ensure_ascii\u001b[39m=\u001b[39mensure_ascii,\n\u001b[0;32m    174\u001b[0m         check_circular\u001b[39m=\u001b[39mcheck_circular, allow_nan\u001b[39m=\u001b[39mallow_nan, indent\u001b[39m=\u001b[39mindent,\n\u001b[0;32m    175\u001b[0m         separators\u001b[39m=\u001b[39mseparators,\n\u001b[0;32m    176\u001b[0m         default\u001b[39m=\u001b[39mdefault, sort_keys\u001b[39m=\u001b[39msort_keys, \u001b[39m*\u001b[39m\u001b[39m*\u001b[39mkw)\u001b[39m.\u001b[39miterencode(obj)\n\u001b[0;32m    177\u001b[0m \u001b[39m# could accelerate with writelines in some versions of Python, at\u001b[39;00m\n\u001b[0;32m    178\u001b[0m \u001b[39m# a debuggability cost\u001b[39;00m\n\u001b[1;32m--> 179\u001b[0m \u001b[39mfor\u001b[39;00m chunk \u001b[39min\u001b[39;00m iterable:\n\u001b[0;32m    180\u001b[0m     fp\u001b[39m.\u001b[39mwrite(chunk)\n",
      "File \u001b[1;32mc:\\Users\\Ashish Gupta\\AppData\\Local\\Programs\\Python\\Python311\\Lib\\json\\encoder.py:439\u001b[0m, in \u001b[0;36m_make_iterencode.<locals>._iterencode\u001b[1;34m(o, _current_indent_level)\u001b[0m\n\u001b[0;32m    437\u001b[0m         \u001b[39mraise\u001b[39;00m \u001b[39mValueError\u001b[39;00m(\u001b[39m\"\u001b[39m\u001b[39mCircular reference detected\u001b[39m\u001b[39m\"\u001b[39m)\n\u001b[0;32m    438\u001b[0m     markers[markerid] \u001b[39m=\u001b[39m o\n\u001b[1;32m--> 439\u001b[0m o \u001b[39m=\u001b[39m _default(o)\n\u001b[0;32m    440\u001b[0m \u001b[39myield from\u001b[39;00m _iterencode(o, _current_indent_level)\n\u001b[0;32m    441\u001b[0m \u001b[39mif\u001b[39;00m markers \u001b[39mis\u001b[39;00m \u001b[39mnot\u001b[39;00m \u001b[39mNone\u001b[39;00m:\n",
      "File \u001b[1;32mc:\\Users\\Ashish Gupta\\AppData\\Local\\Programs\\Python\\Python311\\Lib\\json\\encoder.py:180\u001b[0m, in \u001b[0;36mJSONEncoder.default\u001b[1;34m(self, o)\u001b[0m\n\u001b[0;32m    161\u001b[0m \u001b[39mdef\u001b[39;00m \u001b[39mdefault\u001b[39m(\u001b[39mself\u001b[39m, o):\n\u001b[0;32m    162\u001b[0m \u001b[39m    \u001b[39m\u001b[39m\"\"\"Implement this method in a subclass such that it returns\u001b[39;00m\n\u001b[0;32m    163\u001b[0m \u001b[39m    a serializable object for ``o``, or calls the base implementation\u001b[39;00m\n\u001b[0;32m    164\u001b[0m \u001b[39m    (to raise a ``TypeError``).\u001b[39;00m\n\u001b[1;32m   (...)\u001b[0m\n\u001b[0;32m    178\u001b[0m \n\u001b[0;32m    179\u001b[0m \u001b[39m    \"\"\"\u001b[39;00m\n\u001b[1;32m--> 180\u001b[0m     \u001b[39mraise\u001b[39;00m \u001b[39mTypeError\u001b[39;00m(\u001b[39mf\u001b[39m\u001b[39m'\u001b[39m\u001b[39mObject of type \u001b[39m\u001b[39m{\u001b[39;00mo\u001b[39m.\u001b[39m\u001b[39m__class__\u001b[39m\u001b[39m.\u001b[39m\u001b[39m__name__\u001b[39m\u001b[39m}\u001b[39;00m\u001b[39m \u001b[39m\u001b[39m'\u001b[39m\n\u001b[0;32m    181\u001b[0m                     \u001b[39mf\u001b[39m\u001b[39m'\u001b[39m\u001b[39mis not JSON serializable\u001b[39m\u001b[39m'\u001b[39m)\n",
      "\u001b[1;31mTypeError\u001b[0m: Object of type person is not JSON serializable"
     ]
    }
   ],
   "source": [
    "import json\n",
    "with open(\"demp.json\",\"w\")as f:\n",
    "    json.dump(p,f)"
   ]
  },
  {
   "cell_type": "code",
   "execution_count": 36,
   "metadata": {},
   "outputs": [],
   "source": [
    "import json\n",
    "\n",
    "def show_object(p):\n",
    "    if (isinstance(p,person)):\n",
    "        return \"{} {} age -> {} gender -> {} \".format(p.fname,p.lname,p.age,p.gender)\n",
    "        \n",
    "\n",
    "\n",
    "with open(\"demp.json\",\"w\")as f:\n",
    "    json.dump(p,f,default=show_object)"
   ]
  },
  {
   "cell_type": "code",
   "execution_count": 39,
   "metadata": {},
   "outputs": [],
   "source": [
    "import json\n",
    "\n",
    "def show_object(p):\n",
    "    if (isinstance(p,person)):\n",
    "        return {'name':p.fname + ' ' + p.lname, 'age':p.age,'gender':p.gender}\n",
    "        \n",
    "\n",
    "\n",
    "with open(\"demp.json\",\"w\")as f:\n",
    "    json.dump(p,f,default=show_object,indent=4)"
   ]
  },
  {
   "cell_type": "code",
   "execution_count": 40,
   "metadata": {},
   "outputs": [
    {
     "name": "stdout",
     "output_type": "stream",
     "text": [
      "{'name': 'Tanish  Gupta', 'age': 20, 'gender': 'Male'}\n",
      "<class 'dict'>\n"
     ]
    }
   ],
   "source": [
    "#deserializing\n",
    "import json\n",
    "with open(\"demp.json\",\"r\") as f:\n",
    "    p=json.load(f)\n",
    "    print(p)\n",
    "    print(type(p))"
   ]
  },
  {
   "cell_type": "markdown",
   "metadata": {},
   "source": [
    "# Pickling"
   ]
  },
  {
   "cell_type": "markdown",
   "metadata": {},
   "source": [
    "Pickling is the process whereby a Python object hierarchy is converted into a byte stream, and unpickling is the inverse operation, whereby a byte stream (from a binary file or bytes-like object) is converted back into an object hierarchy."
   ]
  },
  {
   "cell_type": "code",
   "execution_count": 42,
   "metadata": {},
   "outputs": [],
   "source": [
    "class person:\n",
    "    def __init__(self,name,age):\n",
    "        self.name=name\n",
    "        self.age=age\n",
    "        \n",
    "    def display_info(self):\n",
    "        print(\"Hi my name is \",self.name,\"and i am \", self.age,\"years old\")"
   ]
  },
  {
   "cell_type": "code",
   "execution_count": 43,
   "metadata": {},
   "outputs": [],
   "source": [
    "p=person(\"Tanish Gupta\",20)"
   ]
  },
  {
   "cell_type": "code",
   "execution_count": 44,
   "metadata": {},
   "outputs": [],
   "source": [
    "import pickle\n",
    "with open(\"demp.pickle\",\"wb\") as f:\n",
    "    pickle.dump(p,f)"
   ]
  },
  {
   "cell_type": "code",
   "execution_count": 45,
   "metadata": {},
   "outputs": [
    {
     "name": "stdout",
     "output_type": "stream",
     "text": [
      "Hi my name is  Tanish Gupta and i am  20 years old\n"
     ]
    }
   ],
   "source": [
    "import pickle\n",
    "with open(\"demp.pickle\",\"rb\")as f:\n",
    "    pickle.load(f).display_info()"
   ]
  },
  {
   "cell_type": "markdown",
   "metadata": {},
   "source": [
    "# Pickle vs JSON"
   ]
  },
  {
   "cell_type": "markdown",
   "metadata": {},
   "source": [
    "### Pickle Vs Json\n",
    "\n",
    "- Pickle lets the user to store data in binary format. JSON lets the user store data in a human-readable text format."
   ]
  }
 ],
 "metadata": {
  "kernelspec": {
   "display_name": "Python 3",
   "language": "python",
   "name": "python3"
  },
  "language_info": {
   "codemirror_mode": {
    "name": "ipython",
    "version": 3
   },
   "file_extension": ".py",
   "mimetype": "text/x-python",
   "name": "python",
   "nbconvert_exporter": "python",
   "pygments_lexer": "ipython3",
   "version": "3.11.3"
  }
 },
 "nbformat": 4,
 "nbformat_minor": 2
}
