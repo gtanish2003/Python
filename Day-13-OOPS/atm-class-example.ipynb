{
 "cells": [
  {
   "cell_type": "markdown",
   "metadata": {},
   "source": [
    "There are three types of cases:\n",
    "### Pascal case\n",
    "### Camel case\n",
    "### Snake case"
   ]
  },
  {
   "cell_type": "markdown",
   "metadata": {},
   "source": [
    "# Pascal Case\n",
    "ThisIsPascalCase"
   ]
  },
  {
   "cell_type": "markdown",
   "metadata": {},
   "source": [
    "# Camel Case\n",
    "thisIsCamelCase"
   ]
  },
  {
   "cell_type": "markdown",
   "metadata": {},
   "source": [
    "# Snake case\n",
    "this_is_snake_case"
   ]
  },
  {
   "cell_type": "markdown",
   "metadata": {},
   "source": [
    "# Function vs Methods"
   ]
  },
  {
   "cell_type": "markdown",
   "metadata": {},
   "source": [
    "Function is a function which is general to all where as method is a special function which is defined inside class and object of that class can only access it."
   ]
  },
  {
   "cell_type": "code",
   "execution_count": 5,
   "metadata": {},
   "outputs": [],
   "source": [
    "class atm:\n",
    "    def __init__(self):   # here __init__ is a constructor\n",
    "        self.pin=\"\"       # pin and balance are variables name\n",
    "        self.balance=0\n",
    "        self.menu()       # here menu is a function name\n",
    "    def menu(self):       \n",
    "        user_input=input(''' \n",
    "                         Hello,how would you like to proceed ?\n",
    "                        1. Enter 1 to create pin\n",
    "                        2.Enter 2 to deposit\n",
    "                        3.Enter 3 to withdraw money\n",
    "                        4. Enter 4 to check balance\n",
    "                        5. Enter 5 to exit\n",
    "                         \n",
    "               ''')\n",
    "        \n",
    "        if user_input=='1':\n",
    "            self.create_pin()\n",
    "        elif user_input=='2':\n",
    "            self.deposit()\n",
    "        elif user_input=='3':\n",
    "            self.withdraw()\n",
    "        elif user_input=='4':\n",
    "            self.check_balance()\n",
    "        else:\n",
    "            print(\"Exit\")\n",
    "\n",
    "\n",
    "    def create_pin(self):\n",
    "        self.pin=input(\"Enter your pin\")\n",
    "        print(\"Your pin is created\")\n",
    "\n",
    "\n",
    "    def deposit(self):\n",
    "        temp=input(\"Enter your pin\")\n",
    "        if temp==self.pin:\n",
    "            amount=int(input(\"Enter the amount you want to deposit\"))\n",
    "            self.balance+=amount\n",
    "            print(\"Deposit successfully\")\n",
    "        else:\n",
    "            print(\"Wrong pin\")\n",
    "\n",
    "\n",
    "    def withdraw(self):\n",
    "        temp=input(\"Enter your pin\")\n",
    "        if temp==self.pin:\n",
    "            amount=int(input(\"Enter the amount you want to withdraw\"))\n",
    "            if amount>self.balance:\n",
    "                print(\"Insufficient balance\")\n",
    "            else:\n",
    "                self.balance-=amount\n",
    "                print(\"Withdraw successfully\")\n",
    "        else:\n",
    "            print(\"Wrong pin\")\n",
    "\n",
    "    def check_balance(self):\n",
    "        temp=input(\"Enter your pin\")\n",
    "        if temp==self.pin:\n",
    "            print(\"Your balance is\",self.balance)\n",
    "        else:\n",
    "            print(\"Wrong pin\")\n"
   ]
  },
  {
   "cell_type": "code",
   "execution_count": 6,
   "metadata": {},
   "outputs": [
    {
     "name": "stdout",
     "output_type": "stream",
     "text": [
      "Your pin is created\n"
     ]
    }
   ],
   "source": [
    "sbi=atm()"
   ]
  },
  {
   "cell_type": "code",
   "execution_count": 7,
   "metadata": {},
   "outputs": [
    {
     "name": "stdout",
     "output_type": "stream",
     "text": [
      "Deposit successfully\n"
     ]
    }
   ],
   "source": [
    "sbi.deposit()"
   ]
  },
  {
   "cell_type": "code",
   "execution_count": 8,
   "metadata": {},
   "outputs": [
    {
     "name": "stdout",
     "output_type": "stream",
     "text": [
      "Your balance is 50000\n"
     ]
    }
   ],
   "source": [
    "sbi.check_balance()"
   ]
  },
  {
   "cell_type": "markdown",
   "metadata": {},
   "source": [
    "# Here self refers to the object of the class currently being used."
   ]
  },
  {
   "cell_type": "markdown",
   "metadata": {},
   "source": [
    "The main need of the self is that if one method wants to access another method then it can be done by some object only i.e. it can be achieved with the help of self\n"
   ]
  }
 ],
 "metadata": {
  "kernelspec": {
   "display_name": "Python 3",
   "language": "python",
   "name": "python3"
  },
  "language_info": {
   "codemirror_mode": {
    "name": "ipython",
    "version": 3
   },
   "file_extension": ".py",
   "mimetype": "text/x-python",
   "name": "python",
   "nbconvert_exporter": "python",
   "pygments_lexer": "ipython3",
   "version": "3.11.3"
  }
 },
 "nbformat": 4,
 "nbformat_minor": 2
}
