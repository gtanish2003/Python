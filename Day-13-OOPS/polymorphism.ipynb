{
 "cells": [
  {
   "cell_type": "markdown",
   "metadata": {},
   "source": [
    "#   Polymorphism\n",
    "\n",
    "### 1. Method Overriding\n",
    "### 2. Method Overloading\n",
    "### 3. Operator Overloading"
   ]
  },
  {
   "cell_type": "markdown",
   "metadata": {},
   "source": [
    "Technically there is not a concept of method overload in Python. However, we can achieve the same functionality using default arguments. "
   ]
  }
 ],
 "metadata": {
  "language_info": {
   "name": "python"
  }
 },
 "nbformat": 4,
 "nbformat_minor": 2
}
