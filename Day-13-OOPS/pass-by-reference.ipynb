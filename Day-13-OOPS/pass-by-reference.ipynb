{
 "cells": [
  {
   "cell_type": "markdown",
   "metadata": {},
   "source": [
    "# Reference Variable\n",
    "object create krte time jis variable ko use krte h usko reference variable bolte h"
   ]
  },
  {
   "cell_type": "code",
   "execution_count": 4,
   "metadata": {},
   "outputs": [],
   "source": [
    "class Customer:\n",
    "    def __init__(self,name):\n",
    "        self.name=name\n",
    "\n",
    "def greet(customer):\n",
    "        print(\"Hello\",customer.name)\n",
    "\n"
   ]
  },
  {
   "cell_type": "code",
   "execution_count": 5,
   "metadata": {},
   "outputs": [],
   "source": [
    "cust=Customer(\"Tanish Gupta\")"
   ]
  },
  {
   "cell_type": "code",
   "execution_count": 6,
   "metadata": {},
   "outputs": [
    {
     "name": "stdout",
     "output_type": "stream",
     "text": [
      "Hello Tanish Gupta\n"
     ]
    }
   ],
   "source": [
    "greet(cust)"
   ]
  },
  {
   "cell_type": "code",
   "execution_count": 7,
   "metadata": {},
   "outputs": [
    {
     "name": "stdout",
     "output_type": "stream",
     "text": [
      "140718216307560\n",
      "140718216307560\n"
     ]
    }
   ],
   "source": [
    "a=3\n",
    "b=a\n",
    "print(id(a))\n",
    "print(id(b))\n",
    "      "
   ]
  },
  {
   "cell_type": "markdown",
   "metadata": {},
   "source": [
    "# Python objects are also mutuable like lists, dictionaries"
   ]
  },
  {
   "cell_type": "code",
   "execution_count": 1,
   "metadata": {},
   "outputs": [
    {
     "name": "stdout",
     "output_type": "stream",
     "text": [
      "2465396810064\n",
      "2465396810064\n",
      "Tanish Gupta\n",
      "2465396810064\n",
      "Tanish Gupta\n"
     ]
    }
   ],
   "source": [
    "class customer:\n",
    "    def __init__(self,name):\n",
    "        self.name=name\n",
    "def greet(customer):\n",
    "    print(id(customer))\n",
    "    customer.name=\"Tanish Gupta\"\n",
    "    print(customer.name)\n",
    "    print(id(customer))\n",
    "cust=customer(\"Akshat Singh and Pranjal Jain\")\n",
    "print(id(cust))\n",
    "greet(cust)\n",
    "print(cust.name)"
   ]
  },
  {
   "cell_type": "code",
   "execution_count": null,
   "metadata": {},
   "outputs": [],
   "source": []
  }
 ],
 "metadata": {
  "kernelspec": {
   "display_name": "Python 3",
   "language": "python",
   "name": "python3"
  },
  "language_info": {
   "codemirror_mode": {
    "name": "ipython",
    "version": 3
   },
   "file_extension": ".py",
   "mimetype": "text/x-python",
   "name": "python",
   "nbconvert_exporter": "python",
   "pygments_lexer": "ipython3",
   "version": "3.11.3"
  }
 },
 "nbformat": 4,
 "nbformat_minor": 2
}
