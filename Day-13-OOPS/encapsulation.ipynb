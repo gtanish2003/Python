{
 "cells": [
  {
   "cell_type": "markdown",
   "metadata": {},
   "source": [
    "# Instance Variable\n",
    "An instance variable is a variable which has different values for different objects (instances) of class"
   ]
  },
  {
   "cell_type": "code",
   "execution_count": 7,
   "metadata": {},
   "outputs": [],
   "source": [
    "class atm:\n",
    "    def __init__(self):   # here __init__ is a constructor\n",
    "        self.__pin=\"\"       # pin and balance are variables name\n",
    "        self.__balance=0\n",
    "        self.menu()       # here menu is a function name\n",
    "    \n",
    "    def get_pin(self):\n",
    "        return self.__pin\n",
    "    def det_pin(self,new_pin):\n",
    "        if type(new_pin)==str:\n",
    "            self.__pin=new_pin\n",
    "            print(\"Pin is set\")\n",
    "        else:\n",
    "            print(\"Invalid pin\")\n",
    "\n",
    "\n",
    "# Here we are using getter and setter for better encapsulation. In this way we can achieve full fledged encapsulation.\n",
    "    \n",
    "    def menu(self):       \n",
    "        user_input=input(''' \n",
    "                         Hello,how would you like to proceed ?\n",
    "                        1. Enter 1 to create pin\n",
    "                        2.Enter 2 to deposit\n",
    "                        3.Enter 3 to withdraw money\n",
    "                        4. Enter 4 to check balance\n",
    "                        5. Enter 5 to exit\n",
    "                         \n",
    "               ''')\n",
    "        \n",
    "        if user_input=='1':\n",
    "            self.create_pin()\n",
    "        elif user_input=='2':\n",
    "            self.deposit()\n",
    "        elif user_input=='3':\n",
    "            self.withdraw()\n",
    "        elif user_input=='4':\n",
    "            self.check_balance()\n",
    "        else:\n",
    "            print(\"Exit\")\n",
    "\n",
    "\n",
    "    def create_pin(self):\n",
    "        self.__pin=input(\"Enter your pin\")\n",
    "        print(\"Your pin is created\")\n",
    "\n",
    "\n",
    "    def deposit(self):\n",
    "        temp=input(\"Enter your pin\")\n",
    "        if temp==self.__pin:\n",
    "            amount=int(input(\"Enter the amount you want to deposit\"))\n",
    "            self.__balance+=amount\n",
    "            print(\"Deposit successfully\")\n",
    "        else:\n",
    "            print(\"Wrong pin\")\n",
    "\n",
    "\n",
    "    def withdraw(self):\n",
    "        temp=input(\"Enter your pin\")\n",
    "        if temp==self.__pin:\n",
    "            amount=int(input(\"Enter the amount you want to withdraw\"))\n",
    "            if amount>self.__balance:\n",
    "                print(\"Insufficient balance\")\n",
    "            else:\n",
    "                self.__balance-=amount\n",
    "                print(\"Withdraw successfully\")\n",
    "        else:\n",
    "            print(\"Wrong pin\")\n",
    "\n",
    "    def check_balance(self):\n",
    "        temp=input(\"Enter your pin\")\n",
    "        if temp==self.__pin:\n",
    "            print(\"Your balance is\",self.balance)\n",
    "        else:\n",
    "            print(\"Wrong pin\")\n"
   ]
  },
  {
   "cell_type": "code",
   "execution_count": 5,
   "metadata": {},
   "outputs": [
    {
     "name": "stdout",
     "output_type": "stream",
     "text": [
      "Your pin is created\n"
     ]
    }
   ],
   "source": [
    "sbi=atm()"
   ]
  },
  {
   "cell_type": "markdown",
   "metadata": {},
   "source": [
    "In python we dont have any access specifier like public,private,protected.\n",
    "Therefore we use __(double underscore) before the variable name and function name to make them private"
   ]
  },
  {
   "cell_type": "markdown",
   "metadata": {},
   "source": [
    "# __pin   --> _atm__pin  ---> this will tretaed as this name.\n",
    "### so if someone wants to access it with a varibale name __pin it will not effect as it is changed to diff form already."
   ]
  },
  {
   "cell_type": "markdown",
   "metadata": {},
   "source": [
    "# Nothing is private in python\n",
    "### we can change it if we knew that name"
   ]
  },
  {
   "cell_type": "markdown",
   "metadata": {},
   "source": [
    "# Reference Variable\n",
    "object create krte time jis variable ko use krte h usko reference variable bolte h"
   ]
  }
 ],
 "metadata": {
  "kernelspec": {
   "display_name": "Python 3",
   "language": "python",
   "name": "python3"
  },
  "language_info": {
   "codemirror_mode": {
    "name": "ipython",
    "version": 3
   },
   "file_extension": ".py",
   "mimetype": "text/x-python",
   "name": "python",
   "nbconvert_exporter": "python",
   "pygments_lexer": "ipython3",
   "version": "3.11.3"
  }
 },
 "nbformat": 4,
 "nbformat_minor": 2
}
