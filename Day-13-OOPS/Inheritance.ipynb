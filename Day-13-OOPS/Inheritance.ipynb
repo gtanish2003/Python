{
 "cells": [
  {
   "cell_type": "markdown",
   "metadata": {},
   "source": [
    "# Inheritance\n",
    "It is the process of acquiring traits of the parent class by the child class."
   ]
  },
  {
   "cell_type": "markdown",
   "metadata": {},
   "source": [
    "#### Code Resuability is the biggest advantage that a inheritance provide us.\n"
   ]
  },
  {
   "cell_type": "markdown",
   "metadata": {},
   "source": [
    "# We can inherit 3 things:\n",
    "### 1. data members\n",
    "### 2. member functions\n",
    "### 3. constructors\n",
    "\n",
    "### We can never inherit private members"
   ]
  },
  {
   "cell_type": "code",
   "execution_count": 2,
   "metadata": {},
   "outputs": [],
   "source": [
    "class user:\n",
    "    def login(self):\n",
    "        print(\"Login\")\n",
    "\n",
    "    def register(self):\n",
    "        print(\"Register\")\n",
    "\n",
    "class student(user):  # this statement tells that user is the parent class whereas student is the child class\n",
    "    def enroll(self):\n",
    "        print(\"Enroll\")\n",
    "    \n",
    "    def review(self):\n",
    "        print(\"Review\")\n"
   ]
  },
  {
   "cell_type": "code",
   "execution_count": 3,
   "metadata": {},
   "outputs": [
    {
     "name": "stdout",
     "output_type": "stream",
     "text": [
      "Login\n",
      "Register\n",
      "Enroll\n",
      "Review\n"
     ]
    }
   ],
   "source": [
    "stu1 = student()\n",
    "stu1.login()\n",
    "stu1.register()\n",
    "stu1.enroll()\n",
    "stu1.review()\n"
   ]
  },
  {
   "cell_type": "code",
   "execution_count": 4,
   "metadata": {},
   "outputs": [
    {
     "name": "stdout",
     "output_type": "stream",
     "text": [
      "Login\n",
      "Register\n"
     ]
    },
    {
     "ename": "AttributeError",
     "evalue": "'user' object has no attribute 'enroll'",
     "output_type": "error",
     "traceback": [
      "\u001b[1;31m---------------------------------------------------------------------------\u001b[0m",
      "\u001b[1;31mAttributeError\u001b[0m                            Traceback (most recent call last)",
      "\u001b[1;32md:\\Python\\Day-13-OOPS\\Inheritance.ipynb Cell 6\u001b[0m line \u001b[0;36m4\n\u001b[0;32m      <a href='vscode-notebook-cell:/d%3A/Python/Day-13-OOPS/Inheritance.ipynb#X11sZmlsZQ%3D%3D?line=1'>2</a>\u001b[0m u\u001b[39m.\u001b[39mlogin()\n\u001b[0;32m      <a href='vscode-notebook-cell:/d%3A/Python/Day-13-OOPS/Inheritance.ipynb#X11sZmlsZQ%3D%3D?line=2'>3</a>\u001b[0m u\u001b[39m.\u001b[39mregister()\n\u001b[1;32m----> <a href='vscode-notebook-cell:/d%3A/Python/Day-13-OOPS/Inheritance.ipynb#X11sZmlsZQ%3D%3D?line=3'>4</a>\u001b[0m u\u001b[39m.\u001b[39;49menroll()  \u001b[39m# this statement will give an error as enroll is not a method of user class\u001b[39;00m\n\u001b[0;32m      <a href='vscode-notebook-cell:/d%3A/Python/Day-13-OOPS/Inheritance.ipynb#X11sZmlsZQ%3D%3D?line=4'>5</a>\u001b[0m u\u001b[39m.\u001b[39mreview()  \u001b[39m# throws an error\u001b[39;00m\n",
      "\u001b[1;31mAttributeError\u001b[0m: 'user' object has no attribute 'enroll'"
     ]
    }
   ],
   "source": [
    "u =user()\n",
    "u.login()\n",
    "u.register()\n",
    "u.enroll()  # this statement will give an error as enroll is not a method of user class\n",
    "u.review()  # throws an error"
   ]
  },
  {
   "cell_type": "code",
   "execution_count": 5,
   "metadata": {},
   "outputs": [
    {
     "name": "stdout",
     "output_type": "stream",
     "text": [
      "Inside phone constructor\n"
     ]
    }
   ],
   "source": [
    "# Inheriting a constructor\n",
    "class phone:\n",
    "    def __init__(self,price,brand,camera):\n",
    "        print(\"Inside phone constructor\")\n",
    "        self.price = price\n",
    "        self.brand = brand\n",
    "        self.camera = camera\n",
    "\n",
    "class smartphone(phone):\n",
    "    pass\n",
    "\n",
    "s=smartphone(20000,\"Apple\",13)"
   ]
  },
  {
   "cell_type": "code",
   "execution_count": 7,
   "metadata": {},
   "outputs": [
    {
     "name": "stdout",
     "output_type": "stream",
     "text": [
      "Inside phone constructor\n",
      "20000\n"
     ]
    },
    {
     "ename": "AttributeError",
     "evalue": "'smartphone' object has no attribute '__brand'",
     "output_type": "error",
     "traceback": [
      "\u001b[1;31m---------------------------------------------------------------------------\u001b[0m",
      "\u001b[1;31mAttributeError\u001b[0m                            Traceback (most recent call last)",
      "\u001b[1;32md:\\Python\\Day-13-OOPS\\Inheritance.ipynb Cell 8\u001b[0m line \u001b[0;36m1\n\u001b[0;32m     <a href='vscode-notebook-cell:/d%3A/Python/Day-13-OOPS/Inheritance.ipynb#X13sZmlsZQ%3D%3D?line=11'>12</a>\u001b[0m s\u001b[39m=\u001b[39msmartphone(\u001b[39m20000\u001b[39m,\u001b[39m\"\u001b[39m\u001b[39mApple\u001b[39m\u001b[39m\"\u001b[39m,\u001b[39m13\u001b[39m)\n\u001b[0;32m     <a href='vscode-notebook-cell:/d%3A/Python/Day-13-OOPS/Inheritance.ipynb#X13sZmlsZQ%3D%3D?line=12'>13</a>\u001b[0m \u001b[39mprint\u001b[39m(s\u001b[39m.\u001b[39mprice)\n\u001b[1;32m---> <a href='vscode-notebook-cell:/d%3A/Python/Day-13-OOPS/Inheritance.ipynb#X13sZmlsZQ%3D%3D?line=13'>14</a>\u001b[0m \u001b[39mprint\u001b[39m(s\u001b[39m.\u001b[39;49m__brand)\n",
      "\u001b[1;31mAttributeError\u001b[0m: 'smartphone' object has no attribute '__brand'"
     ]
    }
   ],
   "source": [
    "#  Inheriting a data member\n",
    "class phone:\n",
    "    def __init__(self,price,brand,camera):\n",
    "        print(\"Inside phone constructor\")\n",
    "        self.price = price\n",
    "        self.__brand = brand\n",
    "        self.camera = camera\n",
    "\n",
    "class smartphone(phone):\n",
    "    pass\n",
    "\n",
    "s=smartphone(20000,\"Apple\",13)\n",
    "print(s.price)\n",
    "print(s.__brand)\n"
   ]
  },
  {
   "cell_type": "markdown",
   "metadata": {},
   "source": [
    "# Method Overiding"
   ]
  },
  {
   "cell_type": "code",
   "execution_count": 8,
   "metadata": {},
   "outputs": [
    {
     "name": "stdout",
     "output_type": "stream",
     "text": [
      "Inside phone constructor\n",
      "Buying a smartphone\n"
     ]
    }
   ],
   "source": [
    "class phone:\n",
    "    def __init__(self,price,brand,camera):\n",
    "        print(\"Inside phone constructor\")\n",
    "        self.price = price\n",
    "        self.brand = brand\n",
    "        self.camera = camera\n",
    "    \n",
    "    def buy(self):\n",
    "        print(\"Buying a phone\")\n",
    "\n",
    "class smartphone(phone):\n",
    "    def buy(self):\n",
    "        print(\"Buying a smartphone\")\n",
    "\n",
    "s=smartphone(20000,\"Apple\",13)\n",
    "s.buy()"
   ]
  },
  {
   "cell_type": "markdown",
   "metadata": {},
   "source": [
    "s is a object of smartphone class but using the constructor of phone class .. but when it calls the buy function, it is present in both the classes  but the output is of smartphone class...This concept is known as method overiding and it is a part of polymorphism\n"
   ]
  },
  {
   "cell_type": "code",
   "execution_count": 9,
   "metadata": {},
   "outputs": [
    {
     "name": "stdout",
     "output_type": "stream",
     "text": [
      "Inside phone constructor\n",
      "Buying a smartphone\n",
      "Buying a phone\n"
     ]
    }
   ],
   "source": [
    "class phone:\n",
    "    def __init__(self,price,brand,camera):\n",
    "        print(\"Inside phone constructor\")\n",
    "        self.price = price\n",
    "        self.brand = brand\n",
    "        self.camera = camera\n",
    "    \n",
    "    def buy(self):\n",
    "        print(\"Buying a phone\")\n",
    "\n",
    "class smartphone(phone):\n",
    "    def buy(self):\n",
    "        print(\"Buying a smartphone\")\n",
    "        super().buy()\n",
    "\n",
    "s=smartphone(20000,\"Apple\",13)\n",
    "s.buy()"
   ]
  },
  {
   "cell_type": "markdown",
   "metadata": {},
   "source": [
    "### Above code is an illustration of the super keyword.\n",
    "### super keyword cant be used outside the class.\n",
    "### we can access two things with the help of super keyword: parent members and methods\n"
   ]
  },
  {
   "cell_type": "markdown",
   "metadata": {},
   "source": [
    "# Types of Inheritance"
   ]
  },
  {
   "cell_type": "markdown",
   "metadata": {},
   "source": [
    "### 1. single level inheritance  --> 1 parent and 1 child\n",
    "### 2. multi level inheritance   --> 1 parent and 1 child and 1 grand child\n",
    "### 3. hierarchy inheritance    --> 1 parent and 2 child\n",
    "### 4. multiple inheritance     --> 2 parent and 1 child\n",
    "### 5. hybrid inheritance  --> comination of above inheritances\n"
   ]
  }
 ],
 "metadata": {
  "kernelspec": {
   "display_name": "Python 3",
   "language": "python",
   "name": "python3"
  },
  "language_info": {
   "codemirror_mode": {
    "name": "ipython",
    "version": 3
   },
   "file_extension": ".py",
   "mimetype": "text/x-python",
   "name": "python",
   "nbconvert_exporter": "python",
   "pygments_lexer": "ipython3",
   "version": "3.11.3"
  }
 },
 "nbformat": 4,
 "nbformat_minor": 2
}
