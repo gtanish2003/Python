{
 "cells": [
  {
   "cell_type": "markdown",
   "metadata": {},
   "source": [
    "# There are 2 stages where error may happen in a program\n",
    "\n",
    "### During execution -> Exceptions\n",
    "### During compilation -> Syntax Error\n"
   ]
  },
  {
   "cell_type": "markdown",
   "metadata": {},
   "source": [
    "# Syntax Error\n",
    "### 1.Something in the program is not written according to the program grammar.\n",
    "### 2.Error is raised by the interpreter/compiler\n",
    "### 3.You can solve it by rectifying the program"
   ]
  },
  {
   "cell_type": "code",
   "execution_count": 1,
   "metadata": {},
   "outputs": [
    {
     "ename": "SyntaxError",
     "evalue": "Missing parentheses in call to 'print'. Did you mean print(...)? (528539990.py, line 2)",
     "output_type": "error",
     "traceback": [
      "\u001b[1;36m  Cell \u001b[1;32mIn[1], line 2\u001b[1;36m\u001b[0m\n\u001b[1;33m    print 'hello world'\u001b[0m\n\u001b[1;37m    ^\u001b[0m\n\u001b[1;31mSyntaxError\u001b[0m\u001b[1;31m:\u001b[0m Missing parentheses in call to 'print'. Did you mean print(...)?\n"
     ]
    }
   ],
   "source": [
    "# Examples of syntax error\n",
    "print 'hello world'"
   ]
  },
  {
   "cell_type": "markdown",
   "metadata": {},
   "source": [
    "#### Other examples of syntax error\n",
    "#### Leaving symbols like colon,brackets\n",
    "#### Misspelling a keyword\n",
    "#### Incorrect indentation\n",
    "#### empty if/else/loops/class/functions"
   ]
  },
  {
   "cell_type": "code",
   "execution_count": 2,
   "metadata": {},
   "outputs": [
    {
     "ename": "SyntaxError",
     "evalue": "expected ':' (3315782095.py, line 2)",
     "output_type": "error",
     "traceback": [
      "\u001b[1;36m  Cell \u001b[1;32mIn[2], line 2\u001b[1;36m\u001b[0m\n\u001b[1;33m    if a==3\u001b[0m\n\u001b[1;37m           ^\u001b[0m\n\u001b[1;31mSyntaxError\u001b[0m\u001b[1;31m:\u001b[0m expected ':'\n"
     ]
    }
   ],
   "source": [
    "a = 5\n",
    "if a==3\n",
    "  print('hello')"
   ]
  },
  {
   "cell_type": "code",
   "execution_count": 3,
   "metadata": {},
   "outputs": [
    {
     "ename": "SyntaxError",
     "evalue": "invalid syntax (521424995.py, line 2)",
     "output_type": "error",
     "traceback": [
      "\u001b[1;36m  Cell \u001b[1;32mIn[3], line 2\u001b[1;36m\u001b[0m\n\u001b[1;33m    iff a==3:\u001b[0m\n\u001b[1;37m        ^\u001b[0m\n\u001b[1;31mSyntaxError\u001b[0m\u001b[1;31m:\u001b[0m invalid syntax\n"
     ]
    }
   ],
   "source": [
    "a = 5\n",
    "iff a==3:\n",
    "  print('hello')"
   ]
  },
  {
   "cell_type": "code",
   "execution_count": 4,
   "metadata": {},
   "outputs": [
    {
     "ename": "IndentationError",
     "evalue": "expected an indented block after 'if' statement on line 2 (3610895221.py, line 3)",
     "output_type": "error",
     "traceback": [
      "\u001b[1;36m  Cell \u001b[1;32mIn[4], line 3\u001b[1;36m\u001b[0m\n\u001b[1;33m    print('hello')\u001b[0m\n\u001b[1;37m    ^\u001b[0m\n\u001b[1;31mIndentationError\u001b[0m\u001b[1;31m:\u001b[0m expected an indented block after 'if' statement on line 2\n"
     ]
    }
   ],
   "source": [
    "a = 5\n",
    "if a==3:\n",
    "print('hello')"
   ]
  },
  {
   "cell_type": "code",
   "execution_count": 5,
   "metadata": {},
   "outputs": [
    {
     "ename": "IndexError",
     "evalue": "list index out of range",
     "output_type": "error",
     "traceback": [
      "\u001b[1;31m---------------------------------------------------------------------------\u001b[0m",
      "\u001b[1;31mIndexError\u001b[0m                                Traceback (most recent call last)",
      "\u001b[1;32md:\\Python\\Day-15__Exception-Handling\\ExceptionHandling.ipynb Cell 8\u001b[0m line \u001b[0;36m4\n\u001b[0;32m      <a href='vscode-notebook-cell:/d%3A/Python/Day-15__Exception-Handling/ExceptionHandling.ipynb#X13sZmlsZQ%3D%3D?line=0'>1</a>\u001b[0m \u001b[39m# IndexError\u001b[39;00m\n\u001b[0;32m      <a href='vscode-notebook-cell:/d%3A/Python/Day-15__Exception-Handling/ExceptionHandling.ipynb#X13sZmlsZQ%3D%3D?line=1'>2</a>\u001b[0m \u001b[39m# The IndexError is thrown when trying to access an item at an invalid index.\u001b[39;00m\n\u001b[0;32m      <a href='vscode-notebook-cell:/d%3A/Python/Day-15__Exception-Handling/ExceptionHandling.ipynb#X13sZmlsZQ%3D%3D?line=2'>3</a>\u001b[0m L \u001b[39m=\u001b[39m [\u001b[39m1\u001b[39m,\u001b[39m2\u001b[39m,\u001b[39m3\u001b[39m]\n\u001b[1;32m----> <a href='vscode-notebook-cell:/d%3A/Python/Day-15__Exception-Handling/ExceptionHandling.ipynb#X13sZmlsZQ%3D%3D?line=3'>4</a>\u001b[0m L[\u001b[39m100\u001b[39;49m]\n",
      "\u001b[1;31mIndexError\u001b[0m: list index out of range"
     ]
    }
   ],
   "source": [
    "# IndexError\n",
    "# The IndexError is thrown when trying to access an item at an invalid index.\n",
    "L = [1,2,3]\n",
    "L[100]"
   ]
  },
  {
   "cell_type": "code",
   "execution_count": 6,
   "metadata": {},
   "outputs": [
    {
     "ename": "ModuleNotFoundError",
     "evalue": "No module named 'mathi'",
     "output_type": "error",
     "traceback": [
      "\u001b[1;31m---------------------------------------------------------------------------\u001b[0m",
      "\u001b[1;31mModuleNotFoundError\u001b[0m                       Traceback (most recent call last)",
      "\u001b[1;32md:\\Python\\Day-15__Exception-Handling\\ExceptionHandling.ipynb Cell 9\u001b[0m line \u001b[0;36m3\n\u001b[0;32m      <a href='vscode-notebook-cell:/d%3A/Python/Day-15__Exception-Handling/ExceptionHandling.ipynb#X14sZmlsZQ%3D%3D?line=0'>1</a>\u001b[0m \u001b[39m# ModuleNotFoundError\u001b[39;00m\n\u001b[0;32m      <a href='vscode-notebook-cell:/d%3A/Python/Day-15__Exception-Handling/ExceptionHandling.ipynb#X14sZmlsZQ%3D%3D?line=1'>2</a>\u001b[0m \u001b[39m# The ModuleNotFoundError is thrown when a module could not be found.\u001b[39;00m\n\u001b[1;32m----> <a href='vscode-notebook-cell:/d%3A/Python/Day-15__Exception-Handling/ExceptionHandling.ipynb#X14sZmlsZQ%3D%3D?line=2'>3</a>\u001b[0m \u001b[39mimport\u001b[39;00m \u001b[39mmathi\u001b[39;00m\n\u001b[0;32m      <a href='vscode-notebook-cell:/d%3A/Python/Day-15__Exception-Handling/ExceptionHandling.ipynb#X14sZmlsZQ%3D%3D?line=3'>4</a>\u001b[0m math\u001b[39m.\u001b[39mfloor(\u001b[39m5.3\u001b[39m)\n",
      "\u001b[1;31mModuleNotFoundError\u001b[0m: No module named 'mathi'"
     ]
    }
   ],
   "source": [
    "# ModuleNotFoundError\n",
    "# The ModuleNotFoundError is thrown when a module could not be found.\n",
    "import mathi\n",
    "math.floor(5.3)"
   ]
  },
  {
   "cell_type": "code",
   "execution_count": 7,
   "metadata": {},
   "outputs": [
    {
     "ename": "KeyError",
     "evalue": "'age'",
     "output_type": "error",
     "traceback": [
      "\u001b[1;31m---------------------------------------------------------------------------\u001b[0m",
      "\u001b[1;31mKeyError\u001b[0m                                  Traceback (most recent call last)",
      "\u001b[1;32md:\\Python\\Day-15__Exception-Handling\\ExceptionHandling.ipynb Cell 10\u001b[0m line \u001b[0;36m5\n\u001b[0;32m      <a href='vscode-notebook-cell:/d%3A/Python/Day-15__Exception-Handling/ExceptionHandling.ipynb#X15sZmlsZQ%3D%3D?line=0'>1</a>\u001b[0m \u001b[39m# KeyError\u001b[39;00m\n\u001b[0;32m      <a href='vscode-notebook-cell:/d%3A/Python/Day-15__Exception-Handling/ExceptionHandling.ipynb#X15sZmlsZQ%3D%3D?line=1'>2</a>\u001b[0m \u001b[39m# The KeyError is thrown when a key is not found\u001b[39;00m\n\u001b[0;32m      <a href='vscode-notebook-cell:/d%3A/Python/Day-15__Exception-Handling/ExceptionHandling.ipynb#X15sZmlsZQ%3D%3D?line=3'>4</a>\u001b[0m d \u001b[39m=\u001b[39m {\u001b[39m'\u001b[39m\u001b[39mname\u001b[39m\u001b[39m'\u001b[39m:\u001b[39m'\u001b[39m\u001b[39mnitish\u001b[39m\u001b[39m'\u001b[39m}\n\u001b[1;32m----> <a href='vscode-notebook-cell:/d%3A/Python/Day-15__Exception-Handling/ExceptionHandling.ipynb#X15sZmlsZQ%3D%3D?line=4'>5</a>\u001b[0m d[\u001b[39m'\u001b[39;49m\u001b[39mage\u001b[39;49m\u001b[39m'\u001b[39;49m]\n",
      "\u001b[1;31mKeyError\u001b[0m: 'age'"
     ]
    }
   ],
   "source": [
    "# KeyError\n",
    "# The KeyError is thrown when a key is not found\n",
    "\n",
    "d = {'name':'nitish'}\n",
    "d['age']\n"
   ]
  },
  {
   "cell_type": "code",
   "execution_count": 8,
   "metadata": {},
   "outputs": [
    {
     "ename": "TypeError",
     "evalue": "unsupported operand type(s) for +: 'int' and 'str'",
     "output_type": "error",
     "traceback": [
      "\u001b[1;31m---------------------------------------------------------------------------\u001b[0m",
      "\u001b[1;31mTypeError\u001b[0m                                 Traceback (most recent call last)",
      "\u001b[1;32md:\\Python\\Day-15__Exception-Handling\\ExceptionHandling.ipynb Cell 11\u001b[0m line \u001b[0;36m3\n\u001b[0;32m      <a href='vscode-notebook-cell:/d%3A/Python/Day-15__Exception-Handling/ExceptionHandling.ipynb#X16sZmlsZQ%3D%3D?line=0'>1</a>\u001b[0m \u001b[39m# TypeError\u001b[39;00m\n\u001b[0;32m      <a href='vscode-notebook-cell:/d%3A/Python/Day-15__Exception-Handling/ExceptionHandling.ipynb#X16sZmlsZQ%3D%3D?line=1'>2</a>\u001b[0m \u001b[39m# The TypeError is thrown when an operation or function is applied to an object of an inappropriate type.\u001b[39;00m\n\u001b[1;32m----> <a href='vscode-notebook-cell:/d%3A/Python/Day-15__Exception-Handling/ExceptionHandling.ipynb#X16sZmlsZQ%3D%3D?line=2'>3</a>\u001b[0m \u001b[39m1\u001b[39;49m \u001b[39m+\u001b[39;49m \u001b[39m'\u001b[39;49m\u001b[39ma\u001b[39;49m\u001b[39m'\u001b[39;49m\n",
      "\u001b[1;31mTypeError\u001b[0m: unsupported operand type(s) for +: 'int' and 'str'"
     ]
    }
   ],
   "source": [
    "# TypeError\n",
    "# The TypeError is thrown when an operation or function is applied to an object of an inappropriate type.\n",
    "1 + 'a'"
   ]
  },
  {
   "cell_type": "code",
   "execution_count": 9,
   "metadata": {},
   "outputs": [
    {
     "ename": "ValueError",
     "evalue": "invalid literal for int() with base 10: 'a'",
     "output_type": "error",
     "traceback": [
      "\u001b[1;31m---------------------------------------------------------------------------\u001b[0m",
      "\u001b[1;31mValueError\u001b[0m                                Traceback (most recent call last)",
      "\u001b[1;32md:\\Python\\Day-15__Exception-Handling\\ExceptionHandling.ipynb Cell 12\u001b[0m line \u001b[0;36m3\n\u001b[0;32m      <a href='vscode-notebook-cell:/d%3A/Python/Day-15__Exception-Handling/ExceptionHandling.ipynb#X20sZmlsZQ%3D%3D?line=0'>1</a>\u001b[0m \u001b[39m# ValueError\u001b[39;00m\n\u001b[0;32m      <a href='vscode-notebook-cell:/d%3A/Python/Day-15__Exception-Handling/ExceptionHandling.ipynb#X20sZmlsZQ%3D%3D?line=1'>2</a>\u001b[0m \u001b[39m# The ValueError is thrown when a function's argument is of an inappropriate type.\u001b[39;00m\n\u001b[1;32m----> <a href='vscode-notebook-cell:/d%3A/Python/Day-15__Exception-Handling/ExceptionHandling.ipynb#X20sZmlsZQ%3D%3D?line=2'>3</a>\u001b[0m \u001b[39mint\u001b[39;49m(\u001b[39m'\u001b[39;49m\u001b[39ma\u001b[39;49m\u001b[39m'\u001b[39;49m)\n",
      "\u001b[1;31mValueError\u001b[0m: invalid literal for int() with base 10: 'a'"
     ]
    }
   ],
   "source": [
    "# ValueError\n",
    "# The ValueError is thrown when a function's argument is of an inappropriate type.\n",
    "int('a')"
   ]
  },
  {
   "cell_type": "code",
   "execution_count": 10,
   "metadata": {},
   "outputs": [
    {
     "ename": "NameError",
     "evalue": "name 'k' is not defined",
     "output_type": "error",
     "traceback": [
      "\u001b[1;31m---------------------------------------------------------------------------\u001b[0m",
      "\u001b[1;31mNameError\u001b[0m                                 Traceback (most recent call last)",
      "\u001b[1;32md:\\Python\\Day-15__Exception-Handling\\ExceptionHandling.ipynb Cell 13\u001b[0m line \u001b[0;36m3\n\u001b[0;32m      <a href='vscode-notebook-cell:/d%3A/Python/Day-15__Exception-Handling/ExceptionHandling.ipynb#X21sZmlsZQ%3D%3D?line=0'>1</a>\u001b[0m \u001b[39m# NameError\u001b[39;00m\n\u001b[0;32m      <a href='vscode-notebook-cell:/d%3A/Python/Day-15__Exception-Handling/ExceptionHandling.ipynb#X21sZmlsZQ%3D%3D?line=1'>2</a>\u001b[0m \u001b[39m# The NameError is thrown when an object could not be found.\u001b[39;00m\n\u001b[1;32m----> <a href='vscode-notebook-cell:/d%3A/Python/Day-15__Exception-Handling/ExceptionHandling.ipynb#X21sZmlsZQ%3D%3D?line=2'>3</a>\u001b[0m \u001b[39mprint\u001b[39m(k)\n",
      "\u001b[1;31mNameError\u001b[0m: name 'k' is not defined"
     ]
    }
   ],
   "source": [
    "# NameError\n",
    "# The NameError is thrown when an object could not be found.\n",
    "print(k)"
   ]
  },
  {
   "cell_type": "code",
   "execution_count": 11,
   "metadata": {},
   "outputs": [
    {
     "ename": "AttributeError",
     "evalue": "'list' object has no attribute 'upper'",
     "output_type": "error",
     "traceback": [
      "\u001b[1;31m---------------------------------------------------------------------------\u001b[0m",
      "\u001b[1;31mAttributeError\u001b[0m                            Traceback (most recent call last)",
      "\u001b[1;32md:\\Python\\Day-15__Exception-Handling\\ExceptionHandling.ipynb Cell 14\u001b[0m line \u001b[0;36m3\n\u001b[0;32m      <a href='vscode-notebook-cell:/d%3A/Python/Day-15__Exception-Handling/ExceptionHandling.ipynb#X22sZmlsZQ%3D%3D?line=0'>1</a>\u001b[0m \u001b[39m# AttributeError\u001b[39;00m\n\u001b[0;32m      <a href='vscode-notebook-cell:/d%3A/Python/Day-15__Exception-Handling/ExceptionHandling.ipynb#X22sZmlsZQ%3D%3D?line=1'>2</a>\u001b[0m L \u001b[39m=\u001b[39m [\u001b[39m1\u001b[39m,\u001b[39m2\u001b[39m,\u001b[39m3\u001b[39m]\n\u001b[1;32m----> <a href='vscode-notebook-cell:/d%3A/Python/Day-15__Exception-Handling/ExceptionHandling.ipynb#X22sZmlsZQ%3D%3D?line=2'>3</a>\u001b[0m L\u001b[39m.\u001b[39;49mupper()\n\u001b[0;32m      <a href='vscode-notebook-cell:/d%3A/Python/Day-15__Exception-Handling/ExceptionHandling.ipynb#X22sZmlsZQ%3D%3D?line=4'>5</a>\u001b[0m \u001b[39m# Stacktrace\u001b[39;00m\n",
      "\u001b[1;31mAttributeError\u001b[0m: 'list' object has no attribute 'upper'"
     ]
    }
   ],
   "source": [
    "# AttributeError\n",
    "L = [1,2,3]\n",
    "L.upper()\n",
    "\n",
    "# Stacktrace"
   ]
  },
  {
   "cell_type": "markdown",
   "metadata": {},
   "source": [
    "# Exceptions \n",
    "### If things go wrong during the execution of the program(runtime). It generally happens when something unforeseen has happened.\n",
    "\n",
    "####    Exceptions are raised by python runtime\n",
    "####    You have to takle is on the fly\n",
    "## Examples\n",
    "### Memory overflow\n",
    "### Divide by 0 -> logical error\n",
    "### Database error"
   ]
  },
  {
   "cell_type": "markdown",
   "metadata": {},
   "source": [
    "## Error ke neeche so message aata h usko stacktrace kehte h"
   ]
  },
  {
   "cell_type": "markdown",
   "metadata": {},
   "source": [
    "# Why is it important to handle exceptions\n",
    "### 1. degardes the user experience\n",
    "### 2. can lead to security issues\n",
    "# how to handle exceptions\n",
    "# -> Try except block"
   ]
  },
  {
   "cell_type": "code",
   "execution_count": 12,
   "metadata": {},
   "outputs": [],
   "source": [
    "with open(\"demo.txt\",\"w\") as f:\n",
    "    f.write(\"Hello World\")"
   ]
  },
  {
   "cell_type": "code",
   "execution_count": 13,
   "metadata": {},
   "outputs": [
    {
     "name": "stdout",
     "output_type": "stream",
     "text": [
      "sorry file not found\n"
     ]
    }
   ],
   "source": [
    "try:\n",
    "    with open(\"demo1.txt\",\"r\") as f:\n",
    "        print(f.read())\n",
    "except:\n",
    "    print(\"sorry file not found\")\n"
   ]
  },
  {
   "cell_type": "code",
   "execution_count": 17,
   "metadata": {},
   "outputs": [
    {
     "name": "stdout",
     "output_type": "stream",
     "text": [
      "Hello World\n",
      "Variable not found\n"
     ]
    }
   ],
   "source": [
    "# Catching specific errors\n",
    "try:\n",
    "    with open(\"demo.txt\",\"r\") as f:\n",
    "        print(f.read())\n",
    "        print(n)\n",
    "except FileNotFoundError:\n",
    "    print(\"File not found\")\n",
    "\n",
    "except NameError:\n",
    "    print(\"Variable not found\")\n",
    "\n",
    "except Exception as e:\n",
    "    print(e.with_traceback())"
   ]
  },
  {
   "cell_type": "markdown",
   "metadata": {},
   "source": [
    "### try -> except -> else\n",
    "we would use else only when wre sure about the code in try block"
   ]
  },
  {
   "cell_type": "code",
   "execution_count": 42,
   "metadata": {},
   "outputs": [
    {
     "name": "stdout",
     "output_type": "stream",
     "text": [
      "Hello World\n"
     ]
    }
   ],
   "source": [
    "try:\n",
    "    f= open(\"demo.txt\",\"r\") \n",
    "    \n",
    "except FileNotFoundError:\n",
    "    print(\"File not found\")\n",
    "\n",
    "except NameError:\n",
    "    print(\"Variable not found\")\n",
    "\n",
    "except Exception as e:\n",
    "    print(e.with_traceback())\n",
    "else:\n",
    "    print(f.read())"
   ]
  },
  {
   "cell_type": "markdown",
   "metadata": {},
   "source": [
    "agar except trigger hota h on finding a error then else will not execute and vice versa"
   ]
  },
  {
   "cell_type": "markdown",
   "metadata": {},
   "source": [
    "# finally keyword"
   ]
  },
  {
   "cell_type": "markdown",
   "metadata": {},
   "source": [
    "har hal me exceute hona hi h\n"
   ]
  },
  {
   "cell_type": "code",
   "execution_count": 44,
   "metadata": {},
   "outputs": [
    {
     "name": "stdout",
     "output_type": "stream",
     "text": [
      "we have enter into try block\n",
      "Hello World\n",
      "This will always run\n"
     ]
    }
   ],
   "source": [
    "try:\n",
    "    f= open(\"demo.txt\",\"r\") \n",
    "    print(\"we have enter into try block\")\n",
    "\n",
    "except FileNotFoundError:\n",
    "    print(\"File is not found\")\n",
    "\n",
    "except Exception as e:\n",
    "     print(e.with_traceback())\n",
    "else:\n",
    "    print(f.read())\n",
    "finally:\n",
    "    print(\"This will always run\")"
   ]
  },
  {
   "cell_type": "code",
   "execution_count": 45,
   "metadata": {},
   "outputs": [
    {
     "ename": "NameError",
     "evalue": "Hello",
     "output_type": "error",
     "traceback": [
      "\u001b[1;31m---------------------------------------------------------------------------\u001b[0m",
      "\u001b[1;31mNameError\u001b[0m                                 Traceback (most recent call last)",
      "\u001b[1;32md:\\Python\\Day-15__Exception-Handling\\ExceptionHandling.ipynb Cell 27\u001b[0m line \u001b[0;36m2\n\u001b[0;32m      <a href='vscode-notebook-cell:/d%3A/Python/Day-15__Exception-Handling/ExceptionHandling.ipynb#X51sZmlsZQ%3D%3D?line=0'>1</a>\u001b[0m \u001b[39m# raising exceptions\u001b[39;00m\n\u001b[1;32m----> <a href='vscode-notebook-cell:/d%3A/Python/Day-15__Exception-Handling/ExceptionHandling.ipynb#X51sZmlsZQ%3D%3D?line=1'>2</a>\u001b[0m \u001b[39mraise\u001b[39;00m \u001b[39mNameError\u001b[39;00m(\u001b[39m\"\u001b[39m\u001b[39mHello\u001b[39m\u001b[39m\"\u001b[39m)\n",
      "\u001b[1;31mNameError\u001b[0m: Hello"
     ]
    }
   ],
   "source": [
    "# raising exceptions\n",
    "raise NameError(\"Hello\")"
   ]
  },
  {
   "cell_type": "markdown",
   "metadata": {},
   "source": [
    "raise is like throw in java\n",
    "and except is like catch in java"
   ]
  },
  {
   "cell_type": "code",
   "execution_count": 51,
   "metadata": {},
   "outputs": [
    {
     "name": "stdout",
     "output_type": "stream",
     "text": [
      "Amount cannot be negative\n"
     ]
    }
   ],
   "source": [
    "class bank:\n",
    "    def __init__(self,balance):\n",
    "        self.balance=balance\n",
    "    def withdraw (self,amount):\n",
    "        if amount<0:\n",
    "            raise Exception(\"Amount cannot be negative\")\n",
    "        if amount > self.balance:\n",
    "            raise Exception(\"Insufficient balance\")\n",
    "        self.balance-=amount\n",
    "\n",
    "b=bank(100000)\n",
    "try:\n",
    "    b.withdraw(-1000000)\n",
    "except Exception as e:\n",
    "    print(e)\n",
    "else:\n",
    "    print(b.balance)\n",
    "\n",
    "\n"
   ]
  },
  {
   "cell_type": "markdown",
   "metadata": {},
   "source": [
    "# Creating custom exception\n"
   ]
  },
  {
   "cell_type": "code",
   "execution_count": 52,
   "metadata": {},
   "outputs": [
    {
     "name": "stdout",
     "output_type": "stream",
     "text": [
      "5000\n"
     ]
    }
   ],
   "source": [
    "class MyException(Exception):\n",
    "  def __init__(self,message):\n",
    "    print(message)\n",
    "\n",
    "class Bank:\n",
    "\n",
    "  def __init__(self,balance):\n",
    "    self.balance = balance\n",
    "\n",
    "  def withdraw(self,amount):\n",
    "    if amount < 0:\n",
    "      raise MyException('amount cannot be -ve')\n",
    "    if self.balance < amount:\n",
    "      raise MyException('paise nai hai tere paas')\n",
    "    self.balance = self.balance - amount\n",
    "\n",
    "obj = Bank(10000)\n",
    "try:\n",
    "  obj.withdraw(5000)\n",
    "except MyException as e:\n",
    "  pass\n",
    "else:\n",
    "  print(obj.balance)\n"
   ]
  },
  {
   "cell_type": "code",
   "execution_count": null,
   "metadata": {},
   "outputs": [],
   "source": []
  }
 ],
 "metadata": {
  "kernelspec": {
   "display_name": "Python 3",
   "language": "python",
   "name": "python3"
  },
  "language_info": {
   "codemirror_mode": {
    "name": "ipython",
    "version": 3
   },
   "file_extension": ".py",
   "mimetype": "text/x-python",
   "name": "python",
   "nbconvert_exporter": "python",
   "pygments_lexer": "ipython3",
   "version": "3.11.3"
  }
 },
 "nbformat": 4,
 "nbformat_minor": 2
}
